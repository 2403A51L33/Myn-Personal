{
  "nbformat": 4,
  "nbformat_minor": 0,
  "metadata": {
    "colab": {
      "provenance": [],
      "authorship_tag": "ABX9TyOPTpjsnWKLxgt7k27e3+wz",
      "include_colab_link": true
    },
    "kernelspec": {
      "name": "python3",
      "display_name": "Python 3"
    },
    "language_info": {
      "name": "python"
    }
  },
  "cells": [
    {
      "cell_type": "markdown",
      "metadata": {
        "id": "view-in-github",
        "colab_type": "text"
      },
      "source": [
        "<a href=\"https://colab.research.google.com/github/2403A51L33/Myn-Personal/blob/main/Untitled12.ipynb\" target=\"_parent\"><img src=\"https://colab.research.google.com/assets/colab-badge.svg\" alt=\"Open In Colab\"/></a>"
      ]
    },
    {
      "cell_type": "code",
      "execution_count": null,
      "metadata": {
        "colab": {
          "base_uri": "https://localhost:8080/"
        },
        "id": "XuoZEom8YOnU",
        "outputId": "636d9579-8b62-433d-ab64-40f0f726df6a"
      },
      "outputs": [
        {
          "output_type": "stream",
          "name": "stdout",
          "text": [
            "Permutations using Recursive Factorial\n",
            "Enter total number of people/items (n): 5\n",
            "Enter number of places (r): 3\n",
            "5P3 = 60\n"
          ]
        }
      ],
      "source": [
        "def factorial(n):\n",
        "    if n == 0 or n == 1:\n",
        "        return 1\n",
        "    else:\n",
        "        return n * factorial(n - 1)\n",
        "def permutations(n, r):\n",
        "    if n < r:\n",
        "        return None\n",
        "    return factorial(n) // factorial(n - r)\n",
        "print(\"Permutations using Recursive Factorial\")\n",
        "n = int(input(\"Enter total number of people/items (n): \"))\n",
        "r = int(input(\"Enter number of places (r): \"))\n",
        "if n >= r:\n",
        "    result = permutations(n, r)\n",
        "    print(f\"{n}P{r} = {result}\")\n",
        "else:\n",
        "    print(\"Invalid input! (n must be greater than or equal to r)\")"
      ]
    }
  ]
}